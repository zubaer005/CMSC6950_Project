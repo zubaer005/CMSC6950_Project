{
 "cells": [
  {
   "cell_type": "markdown",
   "metadata": {},
   "source": [
    "# Getting started with\n",
    "<img src=\"https://raw.githubusercontent.com/euroargodev/argopy/master/docs/_static/argopy_logo_long.png\" alt=\"argopy logo\" width=\"200\"/> "
   ]
  },
  {
   "cell_type": "markdown",
   "metadata": {},
   "source": [
    "Import the **argopy** data fetcher:"
   ]
  },
  {
   "cell_type": "code",
   "execution_count": 1,
   "metadata": {
    "nbsphinx": "hidden"
   },
   "outputs": [],
   "source": [
    "from argopy import DataFetcher as ArgoDataFetcher"
   ]
  },
  {
   "cell_type": "markdown",
   "metadata": {},
   "source": [
    "Then, to get access to Argo data, all you need is 1 line of code:"
   ]
  },
  {
   "cell_type": "code",
   "execution_count": 2,
   "metadata": {},
   "outputs": [],
   "source": [
    "ds = ArgoDataFetcher().region([-75, -45, 20, 30, 0, 100, '2011', '2012']).to_xarray()"
   ]
  },
  {
   "cell_type": "markdown",
   "metadata": {
    "raw_mimetype": "text/restructuredtext"
   },
   "source": [
    "In this example, we used a data fetcher to get data for a given space/time region.  \n",
    "We retrieved all Argo data measurements from 75W to 45W, 20N to 30N, 0db to 100db and from January to May 2011 (the max date is exclusive).  \n",
    "Data are returned as a collection of measurements in a [xarray.Dataset](http://xarray.pydata.org/en/stable/generated/xarray.Dataset.html)."
   ]
  },
  {
   "cell_type": "code",
   "execution_count": 3,
   "metadata": {},
   "outputs": [
    {
     "name": "stdout",
     "output_type": "stream",
     "text": [
      "<xarray.Dataset>\n",
      "Dimensions:          (N_POINTS: 29023)\n",
      "Coordinates:\n",
      "    LATITUDE         (N_POINTS) float64 24.54 24.54 24.54 ... 22.58 22.58 22.58\n",
      "    TIME             (N_POINTS) datetime64[ns] 2011-01-01T11:49:19 ... 2011-12-31T20:31:01\n",
      "    LONGITUDE        (N_POINTS) float64 -45.14 -45.14 -45.14 ... -54.11 -54.11\n",
      "  * N_POINTS         (N_POINTS) int64 0 1 2 3 4 ... 29019 29020 29021 29022\n",
      "Data variables:\n",
      "    CYCLE_NUMBER     (N_POINTS) int64 23 23 23 23 23 23 23 ... 23 23 23 23 23 23\n",
      "    DATA_MODE        (N_POINTS) <U1 'D' 'D' 'D' 'D' 'D' ... 'D' 'D' 'D' 'D' 'D'\n",
      "    DIRECTION        (N_POINTS) <U1 'A' 'A' 'A' 'A' 'A' ... 'A' 'A' 'A' 'A' 'A'\n",
      "    PLATFORM_NUMBER  (N_POINTS) int64 1901463 1901463 ... 6901052 6901052\n",
      "    POSITION_QC      (N_POINTS) int64 1 1 1 1 1 1 1 1 1 1 ... 1 1 1 1 1 1 1 1 1\n",
      "    PRES             (N_POINTS) float32 5.0 10.0 15.0 20.0 ... 70.7 80.2 90.7\n",
      "    PRES_QC          (N_POINTS) int64 1 1 1 1 1 1 1 1 1 1 ... 1 1 1 1 1 1 1 1 1\n",
      "    PSAL             (N_POINTS) float32 37.44895 37.44793 ... 37.19193 37.15593\n",
      "    PSAL_QC          (N_POINTS) int64 1 1 1 1 1 1 1 1 1 1 ... 1 1 1 1 1 1 1 1 1\n",
      "    TEMP             (N_POINTS) float32 24.081 24.084 24.089 ... 24.776 24.139\n",
      "    TEMP_QC          (N_POINTS) int64 1 1 1 1 1 1 1 1 1 1 ... 1 1 1 1 1 1 1 1 1\n",
      "    TIME_QC          (N_POINTS) int64 1 1 1 1 1 1 1 1 1 1 ... 1 1 1 1 1 1 1 1 1\n",
      "Attributes:\n",
      "    DATA_ID:              ARGO\n",
      "    DOI:                  http://doi.org/10.17882/42182\n",
      "    Fetched_from:         https://www.ifremer.fr/erddap\n",
      "    Fetched_by:           gmaze\n",
      "    Fetched_date:         2020/09/22\n",
      "    Fetched_constraints:  phy_[x=-75.00/-45.00; y=20.00/30.00; z=0.0/100.0; t...\n",
      "    Fetched_uri:          https://www.ifremer.fr/erddap/tabledap/ArgoFloats.n...\n",
      "    history:              Variables filtered according to DATA_MODE; Variable...\n"
     ]
    }
   ],
   "source": [
    "print(ds)"
   ]
  },
  {
   "cell_type": "markdown",
   "metadata": {
    "raw_mimetype": "text/restructuredtext"
   },
   "source": [
    "Fetched data are returned as a 1D array collection of measurements. \n",
    "\n",
    "If you prefer to work with a 2D array collection of vertical profiles, simply transform the dataset with the [xarray.Dataset](http://xarray.pydata.org/en/stable/generated/xarray.Dataset.html) accessor method [argo.point2profile](https://argopy.readthedocs.io/en/latest/api.html#argopy.ArgoAccessor.point2profile):"
   ]
  },
  {
   "cell_type": "code",
   "execution_count": 4,
   "metadata": {},
   "outputs": [
    {
     "name": "stdout",
     "output_type": "stream",
     "text": [
      "<xarray.Dataset>\n",
      "Dimensions:          (N_LEVELS: 55, N_PROF: 1419)\n",
      "Coordinates:\n",
      "    LONGITUDE        (N_PROF) float64 -45.14 -51.58 -60.82 ... -53.52 -54.11\n",
      "    LATITUDE         (N_PROF) float64 24.54 25.04 21.48 ... 26.85 20.66 22.58\n",
      "  * N_PROF           (N_PROF) int64 42 664 298 5 527 ... 204 368 526 1272 1375\n",
      "    TIME             (N_PROF) datetime64[ns] 2011-01-01T11:49:19 ... 2011-12-31T20:31:01\n",
      "  * N_LEVELS         (N_LEVELS) int64 0 1 2 3 4 5 6 7 ... 48 49 50 51 52 53 54\n",
      "Data variables:\n",
      "    CYCLE_NUMBER     (N_PROF) int64 23 10 135 23 119 160 ... 193 171 165 4 23\n",
      "    DATA_MODE        (N_PROF) <U1 'D' 'D' 'D' 'D' 'D' ... 'D' 'D' 'D' 'D' 'D'\n",
      "    DIRECTION        (N_PROF) <U1 'A' 'A' 'A' 'A' 'A' ... 'A' 'A' 'A' 'A' 'A'\n",
      "    PLATFORM_NUMBER  (N_PROF) int64 1901463 4901211 4900818 ... 6900935 6901052\n",
      "    POSITION_QC      (N_PROF) int64 1 1 1 1 1 1 1 1 1 1 ... 1 1 1 1 1 1 1 1 1 1\n",
      "    PRES             (N_PROF, N_LEVELS) float32 5.0 10.0 15.0 ... nan nan nan\n",
      "    PRES_QC          (N_PROF) int64 1 1 1 1 1 1 1 1 1 1 ... 1 1 1 1 1 1 1 1 1 1\n",
      "    PSAL             (N_PROF, N_LEVELS) float32 37.44895 37.44793 ... nan nan\n",
      "    PSAL_QC          (N_PROF) int64 1 1 1 1 1 1 1 1 1 1 ... 1 1 1 1 1 1 1 1 1 1\n",
      "    TEMP             (N_PROF, N_LEVELS) float32 24.081 24.084 24.089 ... nan nan\n",
      "    TEMP_QC          (N_PROF) int64 1 1 1 1 1 1 1 1 1 1 ... 1 1 1 1 1 1 1 1 1 1\n",
      "    TIME_QC          (N_PROF) int64 1 1 1 1 1 1 1 1 1 1 ... 1 1 1 1 1 1 1 1 1 1\n",
      "Attributes:\n",
      "    DATA_ID:              ARGO\n",
      "    DOI:                  http://doi.org/10.17882/42182\n",
      "    Fetched_from:         https://www.ifremer.fr/erddap\n",
      "    Fetched_by:           gmaze\n",
      "    Fetched_date:         2020/09/22\n",
      "    Fetched_constraints:  phy_[x=-75.00/-45.00; y=20.00/30.00; z=0.0/100.0; t...\n",
      "    Fetched_uri:          https://www.ifremer.fr/erddap/tabledap/ArgoFloats.n...\n",
      "    history:              Variables filtered according to DATA_MODE; Variable...\n"
     ]
    }
   ],
   "source": [
    "ds = ds.argo.point2profile()\n",
    "print(ds)"
   ]
  },
  {
   "cell_type": "markdown",
   "metadata": {
    "raw_mimetype": "text/restructuredtext"
   },
   "source": [
    "You can also fetch data for a specific float using its [WMO number](<https://www.wmo.int/pages/prog/amp/mmop/wmo-number-rules.html):"
   ]
  },
  {
   "cell_type": "code",
   "execution_count": 5,
   "metadata": {},
   "outputs": [],
   "source": [
    "ds = ArgoDataFetcher().float(6902746).to_xarray()"
   ]
  },
  {
   "cell_type": "markdown",
   "metadata": {},
   "source": [
    "or for a float profile using the cycle number:"
   ]
  },
  {
   "cell_type": "code",
   "execution_count": 6,
   "metadata": {},
   "outputs": [],
   "source": [
    "ds = ArgoDataFetcher().profile(6902755, 12).to_xarray()"
   ]
  }
 ],
 "metadata": {
  "kernelspec": {
   "display_name": "Python 3",
   "language": "python",
   "name": "python3"
  },
  "language_info": {
   "codemirror_mode": {
    "name": "ipython",
    "version": 3
   },
   "file_extension": ".py",
   "mimetype": "text/x-python",
   "name": "python",
   "nbconvert_exporter": "python",
   "pygments_lexer": "ipython3",
   "version": "3.6.10"
  },
  "widgets": {
   "application/vnd.jupyter.widget-state+json": {
    "state": {},
    "version_major": 2,
    "version_minor": 0
   }
  }
 },
 "nbformat": 4,
 "nbformat_minor": 4
}
