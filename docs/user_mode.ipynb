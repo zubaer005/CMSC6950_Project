{
 "cells": [
  {
   "cell_type": "code",
   "execution_count": null,
   "metadata": {
    "nbsphinx": "hidden"
   },
   "outputs": [],
   "source": [
    "# HIDDEN CELL\n",
    "import sys, os\n",
    "\n",
    "# Importing argopy in dev mode:\n",
    "on_rtd = os.environ.get('READTHEDOCS', None) == 'True'\n",
    "if not on_rtd:\n",
    "    sys.path.insert(0, \"/Users/gmaze/git/github/euroargodev/argopy\")\n",
    "    import git\n",
    "    import argopy\n",
    "    from argopy.options import OPTIONS\n",
    "    print(\"argopy:\", argopy.__version__, \n",
    "          \"\\nsrc:\", argopy.__file__, \n",
    "          \"\\nbranch:\", git.Repo(search_parent_directories=True).active_branch.name, \n",
    "          \"\\noptions:\", OPTIONS)\n",
    "else:\n",
    "    sys.path.insert(0, os.path.abspath('..'))\n",
    "\n",
    "import xarray as xr\n",
    "# xr.set_options(display_style=\"html\");\n",
    "xr.set_options(display_style=\"text\");"
   ]
  },
  {
   "cell_type": "code",
   "execution_count": null,
   "metadata": {},
   "outputs": [],
   "source": [
    "import argopy\n",
    "from argopy import DataFetcher as ArgoDataFetcher"
   ]
  },
  {
   "cell_type": "raw",
   "metadata": {
    "raw_mimetype": "text/restructuredtext"
   },
   "source": [
    ".. _user-mode:\n",
    "\n",
    "User mode: standard vs expert\n",
    "============================="
   ]
  },
  {
   "cell_type": "markdown",
   "metadata": {},
   "source": [
    "**Problem**\n",
    "\n",
    "For beginners or non-experts of the Argo dataset, it can be quite complicated to get access to Argo measurements. Indeed, the Argo data set is very complex, with thousands of different variables, tens of reference tables and a [user manual](https://doi.org/10.13155/29825) more than 100 pages long.  \n",
    "\n",
    "This is mainly due to:  \n",
    "\n",
    "- Argo measurements coming from many different models of floats or sensors,  \n",
    "- quality control of *in situ* measurements of autonomous platforms being really a matter of ocean and data experts,  \n",
    "- the Argo data management workflow being distributed between more than 10 Data Assembly Centers all around the world,  \n",
    "- the Argo autonomous profiling floats, despite quite a simple principle of functionning, is a rather complex robot that needs a lot of data to be monitored and logged.\n",
    "\n",
    "**Solution**\n",
    "\n",
    "In order to ease Argo data analysis for the vast majority of standard users, we implemented in **argopy** different levels of verbosity and data processing to hide or simply remove variables only meaningful to experts."
   ]
  },
  {
   "cell_type": "markdown",
   "metadata": {},
   "source": [
    "## What type of user are you ?\n",
    "\n",
    "If you don't know in which user category you would place yourself, try to answer the following questions:\n",
    "\n",
    "- what is a WMO number ?\n",
    "- what is the difference between Delayed and Real Time data mode ?\n",
    "- what is an adjusted parameter ?\n",
    "- what a QC flag of 3 means ?\n",
    "\n",
    "If you answered to no more than 1 question, you probably would feel more confortable with the **standard** user mode. \n",
    "Otherwise, you can give a try to the **expert** mode.\n",
    "\n",
    "In **standard** mode, fetched data are automatically filtered to account for their quality (only good are retained) and level of processing by the data centers (wether they looked at the data briefly or not)."
   ]
  },
  {
   "cell_type": "markdown",
   "metadata": {},
   "source": [
    "## Setting the user mode"
   ]
  },
  {
   "cell_type": "markdown",
   "metadata": {},
   "source": [
    "By default, all **argopy** data fetchers are set to work with a **standard** user mode.\n",
    "\n",
    "If you want to change the user mode, or simply makes it explicit, you can use:\n",
    "\n",
    "- **argopy** global options:"
   ]
  },
  {
   "cell_type": "code",
   "execution_count": null,
   "metadata": {},
   "outputs": [],
   "source": [
    "argopy.set_options(mode='standard')"
   ]
  },
  {
   "cell_type": "markdown",
   "metadata": {},
   "source": [
    "- a temporary context:"
   ]
  },
  {
   "cell_type": "code",
   "execution_count": null,
   "metadata": {},
   "outputs": [],
   "source": [
    "with argopy.set_options(mode='standard'):\n",
    "    ArgoDataFetcher().profile(6902746, 34)"
   ]
  },
  {
   "cell_type": "markdown",
   "metadata": {},
   "source": [
    "- option when instantiating the data fetcher:"
   ]
  },
  {
   "cell_type": "code",
   "execution_count": null,
   "metadata": {},
   "outputs": [],
   "source": [
    "ArgoDataFetcher(mode='standard').profile(6902746, 34)"
   ]
  },
  {
   "cell_type": "markdown",
   "metadata": {},
   "source": [
    "## Differences in user modes\n",
    "\n",
    "To highlight that, let's compare data fetched for one profile with each modes.\n",
    "\n",
    "You will note that the **standard** mode has fewer variables to let you focus on your analysis.\n",
    "For **expert**, all Argo variables for you to work with are here.\n",
    "\n",
    "The difference is the most visible when fetching Argo data from a local copy of the GDAC ftp, so let's use a sample of this provided by **argopy** tutorial datasets:"
   ]
  },
  {
   "cell_type": "code",
   "execution_count": null,
   "metadata": {},
   "outputs": [],
   "source": [
    "ftproot, flist = argopy.tutorial.open_dataset('localftp')\n",
    "argopy.set_options(local_ftp=ftproot)"
   ]
  },
  {
   "cell_type": "markdown",
   "metadata": {},
   "source": [
    "In **standard** mode:"
   ]
  },
  {
   "cell_type": "code",
   "execution_count": null,
   "metadata": {},
   "outputs": [],
   "source": [
    "with argopy.set_options(mode='standard'):\n",
    "    ds = ArgoDataFetcher(src='localftp').profile(6901929, 2).to_xarray()\n",
    "    print(ds.data_vars)"
   ]
  },
  {
   "cell_type": "markdown",
   "metadata": {},
   "source": [
    "In **expert** mode:"
   ]
  },
  {
   "cell_type": "code",
   "execution_count": null,
   "metadata": {},
   "outputs": [],
   "source": [
    "with argopy.set_options(mode='expert'):\n",
    "    ds = ArgoDataFetcher(src='localftp').profile(6901929, 2).to_xarray()\n",
    "    print(ds.data_vars)"
   ]
  }
 ],
 "metadata": {
  "kernelspec": {
   "display_name": "Python 3",
   "language": "python",
   "name": "python3"
  },
  "language_info": {
   "codemirror_mode": {
    "name": "ipython",
    "version": 3
   },
   "file_extension": ".py",
   "mimetype": "text/x-python",
   "name": "python",
   "nbconvert_exporter": "python",
   "pygments_lexer": "ipython3",
   "version": "3.6.10"
  },
  "widgets": {
   "application/vnd.jupyter.widget-state+json": {
    "state": {},
    "version_major": 2,
    "version_minor": 0
   }
  }
 },
 "nbformat": 4,
 "nbformat_minor": 4
}
