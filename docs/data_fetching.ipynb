{
 "cells": [
  {
   "cell_type": "code",
   "execution_count": 1,
   "metadata": {
    "nbsphinx": "hidden"
   },
   "outputs": [
    {
     "name": "stdout",
     "output_type": "stream",
     "text": [
      "argopy: 0.1.5 \n",
      "src: /Users/gmaze/git/github/euroargodev/argopy/argopy/__init__.py \n",
      "branch: parallel-requests \n",
      "options: {'src': 'erddap', 'local_ftp': '.', 'dataset': 'phy', 'cachedir': '/Users/gmaze/.cache/argopy', 'mode': 'standard', 'api_timeout': 60}\n"
     ]
    }
   ],
   "source": [
    "# HIDDEN CELL\n",
    "import sys, os\n",
    "\n",
    "# Importing argopy in dev mode:\n",
    "on_rtd = os.environ.get('READTHEDOCS', None) == 'True'\n",
    "if not on_rtd:\n",
    "    p = \"/Users/gmaze/git/github/euroargodev/argopy\"\n",
    "    sys.path.insert(0, p)\n",
    "    import git\n",
    "    import argopy\n",
    "    from argopy.options import OPTIONS\n",
    "    print(\"argopy:\", argopy.__version__, \n",
    "          \"\\nsrc:\", argopy.__file__, \n",
    "          \"\\nbranch:\", git.Repo(path=p, search_parent_directories=True).active_branch.name, \n",
    "          \"\\noptions:\", OPTIONS)\n",
    "else:\n",
    "    sys.path.insert(0, os.path.abspath('..'))\n",
    "\n",
    "import xarray as xr\n",
    "# xr.set_options(display_style=\"html\");\n",
    "xr.set_options(display_style=\"text\");"
   ]
  },
  {
   "cell_type": "raw",
   "metadata": {
    "raw_mimetype": "text/restructuredtext"
   },
   "source": [
    ".. _data_fetching:"
   ]
  },
  {
   "cell_type": "markdown",
   "metadata": {
    "raw_mimetype": "text/restructuredtext"
   },
   "source": [
    "# Fetching Argo data"
   ]
  },
  {
   "cell_type": "markdown",
   "metadata": {},
   "source": [
    "To access Argo data, you need to use a data fetcher. You can import and instantiate the default argopy data fetcher\n",
    "like this:"
   ]
  },
  {
   "cell_type": "code",
   "execution_count": 2,
   "metadata": {},
   "outputs": [
    {
     "data": {
      "text/plain": [
       "<datafetcher> 'Not initialised'\n",
       "Current backend: erddap\n",
       "Available fetchers: profile, float, region\n",
       "User mode: standard"
      ]
     },
     "execution_count": 2,
     "metadata": {},
     "output_type": "execute_result"
    }
   ],
   "source": [
    "from argopy import DataFetcher as ArgoDataFetcher\n",
    "argo_loader = ArgoDataFetcher()\n",
    "argo_loader"
   ]
  },
  {
   "cell_type": "markdown",
   "metadata": {},
   "source": [
    "Then, you can request data for a specific **space/time domain**, for a given **float** or for a given vertical **profile**."
   ]
  },
  {
   "cell_type": "markdown",
   "metadata": {
    "raw_mimetype": "text/restructuredtext"
   },
   "source": [
    "## For a space/time domain"
   ]
  },
  {
   "cell_type": "raw",
   "metadata": {
    "raw_mimetype": "text/restructuredtext"
   },
   "source": [
    "Use the fetcher access point :meth:`argopy.DataFetcher.region` to specify a domain and chain with the :meth:`argopy.DataFetcher.to_xarray` to get the data returned as :class:`xarray.Dataset`.\n",
    "\n",
    "For instance, to retrieve data from 75W to 45W, 20N to 30N, 0db to 10db and from January to May 2011:"
   ]
  },
  {
   "cell_type": "code",
   "execution_count": 3,
   "metadata": {},
   "outputs": [
    {
     "name": "stdout",
     "output_type": "stream",
     "text": [
      "<xarray.Dataset>\n",
      "Dimensions:                (N_POINTS: 998)\n",
      "Coordinates:\n",
      "    TIME                   (N_POINTS) datetime64[ns] 2011-01-01T11:49:19 ... 2011-05-31T11:34:52\n",
      "  * N_POINTS               (N_POINTS) int64 0 1 2 3 4 5 ... 993 994 995 996 997\n",
      "    LONGITUDE              (N_POINTS) float64 -45.14 -45.14 ... -50.4 -50.4\n",
      "    LATITUDE               (N_POINTS) float64 24.54 24.54 25.04 ... 24.96 24.96\n",
      "Data variables:\n",
      "    CONFIG_MISSION_NUMBER  (N_POINTS) int64 1 1 1 1 1 1 1 1 ... 1 1 2 2 2 2 1 1\n",
      "    CYCLE_NUMBER           (N_POINTS) int64 23 23 10 10 10 10 ... 2 10 10 38 38\n",
      "    DATA_MODE              (N_POINTS) <U1 'D' 'D' 'D' 'D' ... 'D' 'D' 'D' 'D'\n",
      "    DIRECTION              (N_POINTS) <U1 'A' 'A' 'A' 'A' ... 'A' 'A' 'A' 'A'\n",
      "    PLATFORM_NUMBER        (N_POINTS) int64 1901463 1901463 ... 1901463 1901463\n",
      "    POSITION_QC            (N_POINTS) int64 1 1 1 1 1 1 1 1 ... 1 1 1 1 1 1 1 1\n",
      "    PRES                   (N_POINTS) float32 5.0 10.0 2.0 4.0 ... 9.42 5.0 10.0\n",
      "    PRES_QC                (N_POINTS) int64 1 1 1 1 1 1 1 1 ... 1 1 1 1 1 1 1 1\n",
      "    PSAL                   (N_POINTS) float32 37.44895 37.44793 ... 37.0463\n",
      "    PSAL_QC                (N_POINTS) int64 1 1 1 1 1 1 1 1 ... 1 1 1 1 1 1 1 1\n",
      "    TEMP                   (N_POINTS) float32 24.081 24.084 ... 25.098 24.794\n",
      "    TEMP_QC                (N_POINTS) int64 1 1 1 1 1 1 1 1 ... 1 1 1 1 1 1 1 1\n",
      "    TIME_QC                (N_POINTS) int64 1 1 1 1 1 1 1 1 ... 1 1 1 1 1 1 1 1\n",
      "Attributes:\n",
      "    DATA_ID:              ARGO\n",
      "    DOI:                  http://doi.org/10.17882/42182\n",
      "    Fetched_from:         https://www.ifremer.fr/erddap\n",
      "    Fetched_by:           gmaze\n",
      "    Fetched_date:         2020/08/21\n",
      "    Fetched_constraints:  phy_[x=-75.00/-45.00; y=20.00/30.00; z=0.0/10.0; t=...\n",
      "    Fetched_uri:          ['https://www.ifremer.fr/erddap/tabledap/ArgoFloats...\n",
      "    history:              Variables filtered according to DATA_MODE; Variable...\n"
     ]
    }
   ],
   "source": [
    "ds = argo_loader.region([-75, -45, 20, 30, 0, 10, '2011-01-01', '2011-06']).to_xarray()\n",
    "print(ds)"
   ]
  },
  {
   "cell_type": "markdown",
   "metadata": {},
   "source": [
    "Note that:\n",
    "\n",
    "- the constraints on time is not mandatory: if not specified, the fetcher will return all data available in this region.\n",
    "- the last time bound is exclusive: that's why here we specifiy June to retrieve data collected in May."
   ]
  },
  {
   "cell_type": "markdown",
   "metadata": {},
   "source": [
    "## For one or more floats"
   ]
  },
  {
   "cell_type": "raw",
   "metadata": {
    "raw_mimetype": "text/restructuredtext"
   },
   "source": [
    "If you know the Argo float unique identifier number called a `WMO number <https://www.wmo.int/pages/prog/amp/mmop/wmo-number-rules.html>`_ you can use the fetcher access point :meth:`argopy.DataFetcher.float` to specify the float WMO platform number and chain with the :meth:`argopy.DataFetcher.to_xarray` to get the data returned as :class:`xarray.Dataset`.\n",
    "\n",
    "For instance, to retrieve data for float WMO *6902746*:"
   ]
  },
  {
   "cell_type": "code",
   "execution_count": 4,
   "metadata": {},
   "outputs": [
    {
     "name": "stdout",
     "output_type": "stream",
     "text": [
      "<xarray.Dataset>\n",
      "Dimensions:                (N_POINTS: 9039)\n",
      "Coordinates:\n",
      "    TIME                   (N_POINTS) datetime64[ns] 2017-07-06T14:49:00 ... 2019-02-13T07:20:00\n",
      "  * N_POINTS               (N_POINTS) int64 0 1 2 3 4 ... 9035 9036 9037 9038\n",
      "    LONGITUDE              (N_POINTS) float64 -60.17 -60.17 ... -62.64 -62.64\n",
      "    LATITUDE               (N_POINTS) float64 20.08 20.08 20.08 ... 16.3 16.3\n",
      "Data variables:\n",
      "    CONFIG_MISSION_NUMBER  (N_POINTS) int64 1 1 1 1 1 1 1 1 ... 3 3 3 3 3 3 3 3\n",
      "    CYCLE_NUMBER           (N_POINTS) int64 1 1 1 1 1 1 1 ... 84 84 84 84 84 84\n",
      "    DATA_MODE              (N_POINTS) <U1 'D' 'D' 'D' 'D' ... 'D' 'D' 'D' 'D'\n",
      "    DIRECTION              (N_POINTS) <U1 'D' 'D' 'D' 'D' ... 'A' 'A' 'A' 'A'\n",
      "    PLATFORM_NUMBER        (N_POINTS) int64 6902746 6902746 ... 6902746 6902746\n",
      "    POSITION_QC            (N_POINTS) int64 1 1 1 1 1 1 1 1 ... 1 1 1 1 1 1 1 1\n",
      "    PRES                   (N_POINTS) float64 9.0 14.0 ... 1.488e+03 1.509e+03\n",
      "    PRES_QC                (N_POINTS) int64 1 1 1 1 1 1 1 1 ... 1 1 1 1 1 1 1 1\n",
      "    PSAL                   (N_POINTS) float64 36.06 36.06 36.06 ... 34.98 34.98\n",
      "    PSAL_QC                (N_POINTS) int64 1 1 1 1 1 1 1 1 ... 2 2 2 2 2 2 2 2\n",
      "    TEMP                   (N_POINTS) float64 28.04 28.03 28.02 ... 4.281 4.277\n",
      "    TEMP_QC                (N_POINTS) int64 1 1 1 1 1 1 1 1 ... 1 1 1 1 1 1 1 1\n",
      "    TIME_QC                (N_POINTS) int64 1 1 1 1 1 1 1 1 ... 1 1 1 1 1 1 1 1\n",
      "Attributes:\n",
      "    DATA_ID:              ARGO\n",
      "    DOI:                  http://doi.org/10.17882/42182\n",
      "    Fetched_from:         https://www.ifremer.fr/erddap\n",
      "    Fetched_by:           gmaze\n",
      "    Fetched_date:         2020/08/21\n",
      "    Fetched_constraints:  phy;WMO6902746\n",
      "    Fetched_uri:          ['https://www.ifremer.fr/erddap/tabledap/ArgoFloats...\n",
      "    history:              Variables filtered according to DATA_MODE; Variable...\n"
     ]
    }
   ],
   "source": [
    "ds = argo_loader.float(6902746).to_xarray()\n",
    "print(ds)"
   ]
  },
  {
   "cell_type": "markdown",
   "metadata": {},
   "source": [
    "To fetch data for a collection of floats, input them in a list:"
   ]
  },
  {
   "cell_type": "code",
   "execution_count": 5,
   "metadata": {},
   "outputs": [
    {
     "name": "stdout",
     "output_type": "stream",
     "text": [
      "<xarray.Dataset>\n",
      "Dimensions:                (N_POINTS: 17605)\n",
      "Coordinates:\n",
      "    TIME                   (N_POINTS) datetime64[ns] 2017-07-06T14:49:00 ... 2020-08-19T23:11:00\n",
      "  * N_POINTS               (N_POINTS) int64 0 1 2 3 ... 17601 17602 17603 17604\n",
      "    LONGITUDE              (N_POINTS) float64 -60.17 -60.17 ... -60.49 -60.49\n",
      "    LATITUDE               (N_POINTS) float64 20.08 20.08 20.08 ... 62.73 62.73\n",
      "Data variables:\n",
      "    CONFIG_MISSION_NUMBER  (N_POINTS) int64 1 1 1 1 1 1 1 1 ... 2 2 2 2 2 2 2 2\n",
      "    CYCLE_NUMBER           (N_POINTS) int64 1 1 1 1 1 1 1 ... 79 79 79 79 79 79\n",
      "    DATA_MODE              (N_POINTS) <U1 'D' 'D' 'D' 'D' ... 'R' 'R' 'R' 'R'\n",
      "    DIRECTION              (N_POINTS) <U1 'D' 'D' 'D' 'D' ... 'A' 'A' 'A' 'A'\n",
      "    PLATFORM_NUMBER        (N_POINTS) int64 6902746 6902746 ... 6902755 6902755\n",
      "    POSITION_QC            (N_POINTS) int64 1 1 1 1 1 1 1 1 ... 1 1 1 1 1 1 1 1\n",
      "    PRES                   (N_POINTS) float64 9.0 14.0 24.0 ... 962.0 980.0\n",
      "    PRES_QC                (N_POINTS) int64 1 1 1 1 1 1 1 1 ... 1 1 1 1 1 1 1 1\n",
      "    PSAL                   (N_POINTS) float64 36.06 36.06 36.06 ... 34.89 34.89\n",
      "    PSAL_QC                (N_POINTS) int64 1 1 1 1 1 1 1 1 ... 1 1 1 1 1 1 1 1\n",
      "    TEMP                   (N_POINTS) float64 28.04 28.03 28.02 ... 3.668 3.67\n",
      "    TEMP_QC                (N_POINTS) int64 1 1 1 1 1 1 1 1 ... 1 1 1 1 1 1 1 1\n",
      "    TIME_QC                (N_POINTS) int64 1 1 1 1 1 1 1 1 ... 1 1 1 1 1 1 1 1\n",
      "Attributes:\n",
      "    DATA_ID:              ARGO\n",
      "    DOI:                  http://doi.org/10.17882/42182\n",
      "    Fetched_from:         https://www.ifremer.fr/erddap\n",
      "    Fetched_by:           gmaze\n",
      "    Fetched_date:         2020/08/21\n",
      "    Fetched_constraints:  phy;WMO6902746;WMO6902755\n",
      "    Fetched_uri:          ['https://www.ifremer.fr/erddap/tabledap/ArgoFloats...\n",
      "    history:              Variables filtered according to DATA_MODE; Variable...\n"
     ]
    }
   ],
   "source": [
    "ds = argo_loader.float([6902746, 6902755]).to_xarray()\n",
    "print(ds)"
   ]
  },
  {
   "cell_type": "markdown",
   "metadata": {},
   "source": [
    "## For one or more profiles"
   ]
  },
  {
   "cell_type": "raw",
   "metadata": {
    "raw_mimetype": "text/restructuredtext"
   },
   "source": [
    "Use the fetcher access point :meth:`argopy.DataFetcher.profile` to specify the float WMO platform number and the profile cycle number to retrieve profiles for, then chain with the :meth:`argopy.DataFetcher.to_xarray` to get the data returned as :class:`xarray.Dataset`.\n",
    "\n",
    "For instance, to retrieve data for the 12th profile of float WMO 6902755:"
   ]
  },
  {
   "cell_type": "code",
   "execution_count": 6,
   "metadata": {},
   "outputs": [
    {
     "name": "stdout",
     "output_type": "stream",
     "text": [
      "<xarray.Dataset>\n",
      "Dimensions:                (N_POINTS: 107)\n",
      "Coordinates:\n",
      "    TIME                   (N_POINTS) datetime64[ns] 2018-10-19T23:52:00 ... 2018-10-19T23:52:00\n",
      "  * N_POINTS               (N_POINTS) int64 0 1 2 3 4 5 ... 102 103 104 105 106\n",
      "    LONGITUDE              (N_POINTS) float64 -28.81 -28.81 ... -28.81 -28.81\n",
      "    LATITUDE               (N_POINTS) float64 63.68 63.68 63.68 ... 63.68 63.68\n",
      "Data variables:\n",
      "    CONFIG_MISSION_NUMBER  (N_POINTS) int64 2 2 2 2 2 2 2 2 ... 2 2 2 2 2 2 2 2\n",
      "    CYCLE_NUMBER           (N_POINTS) int64 12 12 12 12 12 12 ... 12 12 12 12 12\n",
      "    DATA_MODE              (N_POINTS) <U1 'R' 'R' 'R' 'R' ... 'R' 'R' 'R' 'R'\n",
      "    DIRECTION              (N_POINTS) <U1 'A' 'A' 'A' 'A' ... 'A' 'A' 'A' 'A'\n",
      "    PLATFORM_NUMBER        (N_POINTS) int64 6902755 6902755 ... 6902755 6902755\n",
      "    POSITION_QC            (N_POINTS) int64 1 1 1 1 1 1 1 1 ... 1 1 1 1 1 1 1 1\n",
      "    PRES                   (N_POINTS) float64 3.0 4.0 ... 1.713e+03 1.732e+03\n",
      "    PRES_QC                (N_POINTS) int64 1 1 1 1 1 1 1 1 ... 1 1 1 1 1 1 1 1\n",
      "    PSAL                   (N_POINTS) float64 34.87 34.87 34.87 ... 34.94 34.94\n",
      "    PSAL_QC                (N_POINTS) int64 1 1 1 1 1 1 1 1 ... 1 1 1 1 1 1 1 1\n",
      "    TEMP                   (N_POINTS) float64 7.598 7.599 7.602 ... 3.549 3.536\n",
      "    TEMP_QC                (N_POINTS) int64 1 1 1 1 1 1 1 1 ... 1 1 1 1 1 1 1 1\n",
      "    TIME_QC                (N_POINTS) int64 1 1 1 1 1 1 1 1 ... 1 1 1 1 1 1 1 1\n",
      "Attributes:\n",
      "    DATA_ID:              ARGO\n",
      "    DOI:                  http://doi.org/10.17882/42182\n",
      "    Fetched_from:         https://www.ifremer.fr/erddap\n",
      "    Fetched_by:           gmaze\n",
      "    Fetched_date:         2020/08/21\n",
      "    Fetched_constraints:  phy;WMO6902755_CYC0012\n",
      "    Fetched_uri:          ['https://www.ifremer.fr/erddap/tabledap/ArgoFloats...\n",
      "    history:              Variables filtered according to DATA_MODE; Variable...\n"
     ]
    }
   ],
   "source": [
    "ds = argo_loader.profile(6902755, 12).to_xarray()\n",
    "print(ds)"
   ]
  },
  {
   "cell_type": "markdown",
   "metadata": {},
   "source": [
    "To fetch data for more than one profile, input them in a list:"
   ]
  },
  {
   "cell_type": "code",
   "execution_count": 7,
   "metadata": {},
   "outputs": [
    {
     "name": "stdout",
     "output_type": "stream",
     "text": [
      "<xarray.Dataset>\n",
      "Dimensions:                (N_POINTS: 215)\n",
      "Coordinates:\n",
      "    TIME                   (N_POINTS) datetime64[ns] 2018-07-22T00:03:00 ... 2018-10-19T23:52:00\n",
      "  * N_POINTS               (N_POINTS) int64 0 1 2 3 4 5 ... 210 211 212 213 214\n",
      "    LONGITUDE              (N_POINTS) float64 -31.24 -31.24 ... -28.81 -28.81\n",
      "    LATITUDE               (N_POINTS) float64 59.72 59.72 59.72 ... 63.68 63.68\n",
      "Data variables:\n",
      "    CONFIG_MISSION_NUMBER  (N_POINTS) int64 2 2 2 2 2 2 2 2 ... 2 2 2 2 2 2 2 2\n",
      "    CYCLE_NUMBER           (N_POINTS) int64 3 3 3 3 3 3 3 ... 12 12 12 12 12 12\n",
      "    DATA_MODE              (N_POINTS) <U1 'R' 'R' 'R' 'R' ... 'R' 'R' 'R' 'R'\n",
      "    DIRECTION              (N_POINTS) <U1 'A' 'A' 'A' 'A' ... 'A' 'A' 'A' 'A'\n",
      "    PLATFORM_NUMBER        (N_POINTS) int64 6902755 6902755 ... 6902755 6902755\n",
      "    POSITION_QC            (N_POINTS) int64 1 1 1 1 1 1 1 1 ... 1 1 1 1 1 1 1 1\n",
      "    PRES                   (N_POINTS) float64 3.0 4.0 ... 1.713e+03 1.732e+03\n",
      "    PRES_QC                (N_POINTS) int64 1 1 1 1 1 1 1 1 ... 1 1 1 1 1 1 1 1\n",
      "    PSAL                   (N_POINTS) float64 34.76 34.76 34.76 ... 34.94 34.94\n",
      "    PSAL_QC                (N_POINTS) int64 1 1 1 1 1 1 1 1 ... 1 1 1 1 1 1 1 1\n",
      "    TEMP                   (N_POINTS) float64 8.742 8.743 8.744 ... 3.549 3.536\n",
      "    TEMP_QC                (N_POINTS) int64 1 1 1 1 1 1 1 1 ... 1 1 1 1 1 1 1 1\n",
      "    TIME_QC                (N_POINTS) int64 1 1 1 1 1 1 1 1 ... 1 1 1 1 1 1 1 1\n",
      "Attributes:\n",
      "    DATA_ID:              ARGO\n",
      "    DOI:                  http://doi.org/10.17882/42182\n",
      "    Fetched_from:         https://www.ifremer.fr/erddap\n",
      "    Fetched_by:           gmaze\n",
      "    Fetched_date:         2020/08/21\n",
      "    Fetched_constraints:  phy;WMO6902755_CYC0003_CYC0012\n",
      "    Fetched_uri:          ['https://www.ifremer.fr/erddap/tabledap/ArgoFloats...\n",
      "    history:              Variables filtered according to DATA_MODE; Variable...\n"
     ]
    }
   ],
   "source": [
    "ds = argo_loader.profile(6902755, [3, 12]).to_xarray()\n",
    "print(ds)"
   ]
  }
 ],
 "metadata": {
  "kernelspec": {
   "display_name": "Python 3",
   "language": "python",
   "name": "python3"
  },
  "language_info": {
   "codemirror_mode": {
    "name": "ipython",
    "version": 3
   },
   "file_extension": ".py",
   "mimetype": "text/x-python",
   "name": "python",
   "nbconvert_exporter": "python",
   "pygments_lexer": "ipython3",
   "version": "3.6.10"
  },
  "widgets": {
   "application/vnd.jupyter.widget-state+json": {
    "state": {},
    "version_major": 2,
    "version_minor": 0
   }
  }
 },
 "nbformat": 4,
 "nbformat_minor": 4
}
