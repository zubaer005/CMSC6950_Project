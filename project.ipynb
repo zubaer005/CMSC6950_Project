{
 "cells": [
  {
   "cell_type": "code",
   "execution_count": null,
   "id": "f44bb6a8-855b-4fac-8b41-b701bfcc4be1",
   "metadata": {},
   "outputs": [
    {
     "name": "stdout",
     "output_type": "stream",
     "text": [
      "Collecting package metadata (current_repodata.json): done\n",
      "Solving environment: done\n",
      "\n",
      "## Package Plan ##\n",
      "\n",
      "  environment location: /home/jupyter-zubaer005/.conda/envs/argopy\n",
      "\n",
      "\n",
      "\n",
      "Proceed ([y]/n)? "
     ]
    }
   ],
   "source": [
    "conda create -n argopy"
   ]
  },
  {
   "cell_type": "code",
   "execution_count": null,
   "id": "b098d1be-a220-42bc-b00c-31715000dce3",
   "metadata": {},
   "outputs": [],
   "source": [
    "[y]"
   ]
  },
  {
   "cell_type": "code",
   "execution_count": 1,
   "id": "e5bcd7b3-5f3c-4b98-8eb3-4e576ae682a2",
   "metadata": {},
   "outputs": [
    {
     "name": "stdout",
     "output_type": "stream",
     "text": [
      "Collecting package metadata (current_repodata.json): done\n",
      "Solving environment: done\n",
      "\n",
      "## Package Plan ##\n",
      "\n",
      "  environment location: /opt/tljh/user\n",
      "\n",
      "  added / updated specs:\n",
      "    - aiohttp\n",
      "    - dask\n",
      "    - erddapy\n",
      "    - fsspec\n",
      "    - gsw\n",
      "    - netcdf4\n",
      "    - scikit-learn\n",
      "    - toolz\n",
      "    - xarray\n",
      "\n",
      "\n",
      "The following packages will be downloaded:\n",
      "\n",
      "    package                    |            build\n",
      "    ---------------------------|-----------------\n",
      "    bokeh-2.3.2                |   py37h06a4308_0         5.8 MB\n",
      "    click-8.0.1                |     pyhd3eb1b0_0          79 KB\n",
      "    cytoolz-0.11.0             |   py37h7b6447c_0         328 KB\n",
      "    dask-2021.6.0              |     pyhd3eb1b0_0           5 KB\n",
      "    distributed-2021.6.0       |   py37h06a4308_0         1.1 MB\n",
      "    heapdict-1.0.1             |             py_0           9 KB\n",
      "    importlib-metadata-3.10.0  |   py37h06a4308_0          33 KB\n",
      "    jinja2-3.0.0               |     pyhd3eb1b0_0         106 KB\n",
      "    markupsafe-2.0.1           |   py37h27cfd23_0          21 KB\n",
      "    msgpack-python-1.0.2       |   py37hff7bd54_1          81 KB\n",
      "    packaging-20.9             |     pyhd3eb1b0_0          37 KB\n",
      "    psutil-5.8.0               |   py37h27cfd23_1         329 KB\n",
      "    scikit-learn-0.24.2        |   py37ha9443f7_0         5.2 MB\n",
      "    sortedcontainers-2.3.0     |     pyhd3eb1b0_0          26 KB\n",
      "    tblib-1.7.0                |             py_0          16 KB\n",
      "    toolz-0.11.1               |     pyhd3eb1b0_0          46 KB\n",
      "    xarray-0.18.0              |     pyhd3eb1b0_1         540 KB\n",
      "    zict-2.0.0                 |     pyhd3eb1b0_0          10 KB\n",
      "    zipp-3.4.1                 |     pyhd3eb1b0_0          15 KB\n",
      "    ------------------------------------------------------------\n",
      "                                           Total:        13.7 MB\n",
      "\n",
      "The following NEW packages will be INSTALLED:\n",
      "\n",
      "  bokeh              pkgs/main/linux-64::bokeh-2.3.2-py37h06a4308_0\n",
      "  click              pkgs/main/noarch::click-8.0.1-pyhd3eb1b0_0\n",
      "  cytoolz            pkgs/main/linux-64::cytoolz-0.11.0-py37h7b6447c_0\n",
      "  dask               pkgs/main/noarch::dask-2021.6.0-pyhd3eb1b0_0\n",
      "  distributed        pkgs/main/linux-64::distributed-2021.6.0-py37h06a4308_0\n",
      "  heapdict           pkgs/main/noarch::heapdict-1.0.1-py_0\n",
      "  importlib-metadata pkgs/main/linux-64::importlib-metadata-3.10.0-py37h06a4308_0\n",
      "  jinja2             pkgs/main/noarch::jinja2-3.0.0-pyhd3eb1b0_0\n",
      "  markupsafe         pkgs/main/linux-64::markupsafe-2.0.1-py37h27cfd23_0\n",
      "  msgpack-python     pkgs/main/linux-64::msgpack-python-1.0.2-py37hff7bd54_1\n",
      "  packaging          pkgs/main/noarch::packaging-20.9-pyhd3eb1b0_0\n",
      "  psutil             pkgs/main/linux-64::psutil-5.8.0-py37h27cfd23_1\n",
      "  sortedcontainers   pkgs/main/noarch::sortedcontainers-2.3.0-pyhd3eb1b0_0\n",
      "  tblib              pkgs/main/noarch::tblib-1.7.0-py_0\n",
      "  zict               pkgs/main/noarch::zict-2.0.0-pyhd3eb1b0_0\n",
      "  zipp               pkgs/main/noarch::zipp-3.4.1-pyhd3eb1b0_0\n",
      "\n",
      "The following packages will be UPDATED:\n",
      "\n",
      "  scikit-learn       conda-forge::scikit-learn-0.23.2-py37~ --> pkgs/main::scikit-learn-0.24.2-py37ha9443f7_0\n",
      "\n",
      "The following packages will be SUPERSEDED by a higher-priority channel:\n",
      "\n",
      "  toolz                      conda-forge::toolz-0.11.1-py_0 --> pkgs/main::toolz-0.11.1-pyhd3eb1b0_0\n",
      "  xarray             conda-forge::xarray-0.18.2-pyhd8ed1ab~ --> pkgs/main::xarray-0.18.0-pyhd3eb1b0_1\n",
      "\n",
      "\n",
      "\n",
      "Downloading and Extracting Packages\n",
      "cytoolz-0.11.0       | 328 KB    | ##################################### | 100% \n",
      "xarray-0.18.0        | 540 KB    | ##################################### | 100% \n",
      "tblib-1.7.0          | 16 KB     | ##################################### | 100% \n",
      "bokeh-2.3.2          | 5.8 MB    | ##################################### | 100% \n",
      "sortedcontainers-2.3 | 26 KB     | ##################################### | 100% \n",
      "importlib-metadata-3 | 33 KB     | ##################################### | 100% \n",
      "heapdict-1.0.1       | 9 KB      | ##################################### | 100% \n",
      "packaging-20.9       | 37 KB     | ##################################### | 100% \n",
      "markupsafe-2.0.1     | 21 KB     | ##################################### | 100% \n",
      "psutil-5.8.0         | 329 KB    | ##################################### | 100% \n",
      "zict-2.0.0           | 10 KB     | ##################################### | 100% \n",
      "scikit-learn-0.24.2  | 5.2 MB    | ##################################### | 100% \n",
      "toolz-0.11.1         | 46 KB     | ##################################### | 100% \n",
      "distributed-2021.6.0 | 1.1 MB    | ##################################### | 100% \n",
      "dask-2021.6.0        | 5 KB      | ##################################### | 100% \n",
      "msgpack-python-1.0.2 | 81 KB     | ##################################### | 100% \n",
      "jinja2-3.0.0         | 106 KB    | ##################################### | 100% \n",
      "click-8.0.1          | 79 KB     | ##################################### | 100% \n",
      "zipp-3.4.1           | 15 KB     | ##################################### | 100% \n",
      "Preparing transaction: done\n",
      "Verifying transaction: failed\n",
      "\n",
      "EnvironmentNotWritableError: The current user does not have write permissions to the target environment.\n",
      "  environment location: /opt/tljh/user\n",
      "  uid: 1030\n",
      "  gid: 1032\n",
      "\n",
      "\n",
      "\n",
      "Note: you may need to restart the kernel to use updated packages.\n"
     ]
    }
   ],
   "source": [
    "conda install xarray fsspec scikit-learn erddapy gsw aiohttp netCDF4 dask toolz"
   ]
  },
  {
   "cell_type": "code",
   "execution_count": 1,
   "id": "2359c3c8-0522-4a03-8a3f-11043a8c74c9",
   "metadata": {},
   "outputs": [
    {
     "name": "stdout",
     "output_type": "stream",
     "text": [
      "Collecting package metadata (current_repodata.json): done\n",
      "Solving environment: failed with initial frozen solve. Retrying with flexible solve.\n",
      "Solving environment: failed with repodata from current_repodata.json, will retry with next repodata source.\n",
      "\n",
      "ResolvePackageNotFound: \n",
      "  - conda==4.8.1\n",
      "\n",
      "\n",
      "Note: you may need to restart the kernel to use updated packages.\n"
     ]
    }
   ],
   "source": [
    "conda install ipython ipywidgets tqdm matplotlib cartopy seaborn"
   ]
  },
  {
   "cell_type": "code",
   "execution_count": 2,
   "id": "392db476-ead8-417a-b089-58a856c40d77",
   "metadata": {},
   "outputs": [
    {
     "name": "stdout",
     "output_type": "stream",
     "text": [
      "Collecting package metadata (current_repodata.json): done\n",
      "Solving environment: failed with initial frozen solve. Retrying with flexible solve.\n",
      "Solving environment: failed with repodata from current_repodata.json, will retry with next repodata source.\n",
      "\n",
      "ResolvePackageNotFound: \n",
      "  - conda==4.8.1\n",
      "\n",
      "\n",
      "Note: you may need to restart the kernel to use updated packages.\n"
     ]
    }
   ],
   "source": [
    "conda install numpy pandas geopandas"
   ]
  },
  {
   "cell_type": "code",
   "execution_count": 1,
   "id": "ce246a9f-2158-46eb-af10-d2086bba996c",
   "metadata": {},
   "outputs": [
    {
     "name": "stdout",
     "output_type": "stream",
     "text": [
      "Collecting package metadata (current_repodata.json): done\n",
      "Solving environment: done\n",
      "\n",
      "## Package Plan ##\n",
      "\n",
      "  environment location: /opt/tljh/user\n",
      "\n",
      "  added / updated specs:\n",
      "    - argopy\n",
      "\n",
      "\n",
      "The following packages will be UPDATED:\n",
      "\n",
      "  ca-certificates    pkgs/main::ca-certificates-2021.5.25-~ --> conda-forge::ca-certificates-2021.5.30-ha878542_0\n",
      "\n",
      "The following packages will be SUPERSEDED by a higher-priority channel:\n",
      "\n",
      "  certifi            pkgs/main::certifi-2021.5.30-py37h06a~ --> conda-forge::certifi-2021.5.30-py37h89c1867_0\n",
      "  conda              pkgs/main::conda-4.10.1-py37h06a4308_1 --> conda-forge::conda-4.10.1-py37h89c1867_0\n",
      "\n",
      "\n",
      "Preparing transaction: done\n",
      "Verifying transaction: failed\n",
      "\n",
      "EnvironmentNotWritableError: The current user does not have write permissions to the target environment.\n",
      "  environment location: /opt/tljh/user\n",
      "  uid: 1030\n",
      "  gid: 1032\n",
      "\n",
      "\n",
      "\n",
      "Note: you may need to restart the kernel to use updated packages.\n"
     ]
    }
   ],
   "source": [
    "conda install -c conda-forge argopy"
   ]
  },
  {
   "cell_type": "code",
   "execution_count": 3,
   "id": "744375b1-3138-4001-a0c5-4f31d7d69ab2",
   "metadata": {},
   "outputs": [
    {
     "data": {
      "text/plain": [
       "<datafetcher> 'Not initialised'\n",
       "Current backend: erddap\n",
       "Available fetchers: profile, float, region\n",
       "User mode: standard"
      ]
     },
     "execution_count": 3,
     "metadata": {},
     "output_type": "execute_result"
    }
   ],
   "source": [
    "import argopy\n",
    "from argopy import DataFetcher as ArgoDataFetcher\n",
    "argo_loader = ArgoDataFetcher()\n",
    "argo_loader"
   ]
  },
  {
   "cell_type": "code",
   "execution_count": 6,
   "id": "cba08272-98c6-4dc0-856a-9056f5e8eaaf",
   "metadata": {},
   "outputs": [
    {
     "name": "stdout",
     "output_type": "stream",
     "text": [
      "<xarray.Dataset>\n",
      "Dimensions:                (N_POINTS: 998)\n",
      "Coordinates:\n",
      "  * N_POINTS               (N_POINTS) int64 0 1 2 3 4 5 ... 993 994 995 996 997\n",
      "    LATITUDE               (N_POINTS) float64 24.54 24.54 25.04 ... 24.96 24.96\n",
      "    LONGITUDE              (N_POINTS) float64 -45.14 -45.14 ... -50.4 -50.4\n",
      "    TIME                   (N_POINTS) datetime64[ns] 2011-01-01T11:49:19 ... ...\n",
      "Data variables: (12/13)\n",
      "    CONFIG_MISSION_NUMBER  (N_POINTS) int64 1 1 1 1 1 1 1 1 ... 1 1 2 2 2 2 1 1\n",
      "    CYCLE_NUMBER           (N_POINTS) int64 23 23 10 10 10 10 ... 2 10 10 38 38\n",
      "    DATA_MODE              (N_POINTS) <U1 'D' 'D' 'D' 'D' ... 'D' 'D' 'D' 'D'\n",
      "    DIRECTION              (N_POINTS) <U1 'A' 'A' 'A' 'A' ... 'A' 'A' 'A' 'A'\n",
      "    PLATFORM_NUMBER        (N_POINTS) int64 1901463 1901463 ... 1901463 1901463\n",
      "    POSITION_QC            (N_POINTS) int64 1 1 1 1 1 1 1 1 ... 1 1 1 1 1 1 1 1\n",
      "    ...                     ...\n",
      "    PRES_QC                (N_POINTS) int64 1 1 1 1 1 1 1 1 ... 1 1 1 1 1 1 1 1\n",
      "    PSAL                   (N_POINTS) float64 37.45 37.45 37.28 ... 37.08 37.05\n",
      "    PSAL_QC                (N_POINTS) int64 1 1 1 1 1 1 1 1 ... 1 1 1 1 1 1 1 1\n",
      "    TEMP                   (N_POINTS) float64 24.08 24.08 24.03 ... 25.1 24.79\n",
      "    TEMP_QC                (N_POINTS) int64 1 1 1 1 1 1 1 1 ... 1 1 1 1 1 1 1 1\n",
      "    TIME_QC                (N_POINTS) int64 1 1 1 1 1 1 1 1 ... 1 1 1 1 1 1 1 1\n",
      "Attributes:\n",
      "    DATA_ID:              ARGO\n",
      "    DOI:                  http://doi.org/10.17882/42182\n",
      "    Fetched_from:         https://www.ifremer.fr/erddap\n",
      "    Fetched_by:           jupyter-zubaer005\n",
      "    Fetched_date:         2021/06/16\n",
      "    Fetched_constraints:  [x=-75.00/-45.00; y=20.00/30.00; z=0.0/10.0; t=2011...\n",
      "    Fetched_uri:          ['https://www.ifremer.fr/erddap/tabledap/ArgoFloats...\n",
      "    history:              Variables filtered according to DATA_MODE; Variable...\n"
     ]
    }
   ],
   "source": [
    "ds = argo_loader.region([-75, -45, 20, 30, 0, 10, '2011-01-01', '2011-06']).to_xarray()\n",
    "print(ds)"
   ]
  },
  {
   "cell_type": "code",
   "execution_count": 7,
   "id": "a65c990a-5c17-4fd9-8d37-1780f219a07a",
   "metadata": {},
   "outputs": [
    {
     "name": "stdout",
     "output_type": "stream",
     "text": [
      "<xarray.Dataset>\n",
      "Dimensions:                (N_POINTS: 9039)\n",
      "Coordinates:\n",
      "  * N_POINTS               (N_POINTS) int64 0 1 2 3 4 ... 9035 9036 9037 9038\n",
      "    LATITUDE               (N_POINTS) float64 20.08 20.08 20.08 ... 16.3 16.3\n",
      "    LONGITUDE              (N_POINTS) float64 -60.17 -60.17 ... -62.64 -62.64\n",
      "    TIME                   (N_POINTS) datetime64[ns] 2017-07-06T14:49:00 ... ...\n",
      "Data variables: (12/13)\n",
      "    CONFIG_MISSION_NUMBER  (N_POINTS) int64 1 1 1 1 1 1 1 1 ... 3 3 3 3 3 3 3 3\n",
      "    CYCLE_NUMBER           (N_POINTS) int64 1 1 1 1 1 1 1 ... 84 84 84 84 84 84\n",
      "    DATA_MODE              (N_POINTS) <U1 'D' 'D' 'D' 'D' ... 'D' 'D' 'D' 'D'\n",
      "    DIRECTION              (N_POINTS) <U1 'D' 'D' 'D' 'D' ... 'A' 'A' 'A' 'A'\n",
      "    PLATFORM_NUMBER        (N_POINTS) int64 6902746 6902746 ... 6902746 6902746\n",
      "    POSITION_QC            (N_POINTS) int64 1 1 1 1 1 1 1 1 ... 1 1 1 1 1 1 1 1\n",
      "    ...                     ...\n",
      "    PRES_QC                (N_POINTS) int64 1 1 1 1 1 1 1 1 ... 1 1 1 1 1 1 1 1\n",
      "    PSAL                   (N_POINTS) float64 36.06 36.06 36.06 ... 34.98 34.98\n",
      "    PSAL_QC                (N_POINTS) int64 1 1 1 1 1 1 1 1 ... 2 2 2 2 2 2 2 2\n",
      "    TEMP                   (N_POINTS) float64 28.04 28.03 28.02 ... 4.281 4.277\n",
      "    TEMP_QC                (N_POINTS) int64 1 1 1 1 1 1 1 1 ... 1 1 1 1 1 1 1 1\n",
      "    TIME_QC                (N_POINTS) int64 1 1 1 1 1 1 1 1 ... 1 1 1 1 1 1 1 1\n",
      "Attributes:\n",
      "    DATA_ID:              ARGO\n",
      "    DOI:                  http://doi.org/10.17882/42182\n",
      "    Fetched_from:         https://www.ifremer.fr/erddap\n",
      "    Fetched_by:           jupyter-zubaer005\n",
      "    Fetched_date:         2021/06/16\n",
      "    Fetched_constraints:  phy;WMO6902746\n",
      "    Fetched_uri:          ['https://www.ifremer.fr/erddap/tabledap/ArgoFloats...\n",
      "    history:              Variables filtered according to DATA_MODE; Variable...\n"
     ]
    }
   ],
   "source": [
    "ds = argo_loader.float(6902746).to_xarray()\n",
    "print(ds)"
   ]
  }
 ],
 "metadata": {
  "kernelspec": {
   "display_name": "Python 3",
   "language": "python",
   "name": "python3"
  },
  "language_info": {
   "codemirror_mode": {
    "name": "ipython",
    "version": 3
   },
   "file_extension": ".py",
   "mimetype": "text/x-python",
   "name": "python",
   "nbconvert_exporter": "python",
   "pygments_lexer": "ipython3",
   "version": "3.7.10"
  }
 },
 "nbformat": 4,
 "nbformat_minor": 5
}
